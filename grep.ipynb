{
 "cells": [
  {
   "cell_type": "markdown",
   "metadata": {},
   "source": [
    "**Recuerde no agregar o quitar celdas en este notebook, ni modificar su tipo. Si lo hace, el sistema automaticamente lo calificará con cero punto cero (0.0)**"
   ]
  },
  {
   "cell_type": "markdown",
   "metadata": {},
   "source": [
    "# Descripción"
   ]
  },
  {
   "cell_type": "markdown",
   "metadata": {},
   "source": [
    "Al finalizar esta tarea, el estudiante estará en capacidad de implementar herramientas computacionales que usan expresiones regulares para especificar patrones de búsqueda en cadenas de caracteres."
   ]
  },
  {
   "cell_type": "markdown",
   "metadata": {},
   "source": [
    "El objetivo de esta tarea es modificar el código presentado en las celdas siguientes (el cual fue explicado en clase) para agregar nuevos operadores. "
   ]
  },
  {
   "cell_type": "markdown",
   "metadata": {},
   "source": [
    "**Función match_star**.  Esta función no debe ser modificada."
   ]
  },
  {
   "cell_type": "code",
   "execution_count": null,
   "metadata": {
    "collapsed": true
   },
   "outputs": [],
   "source": [
    "###__test__\n",
    "#\n",
    "#  busca la expresión regular c*re al principio de text\n",
    "#\n",
    "def match_star(c, re, text):\n",
    "    while len(text) > 0 and (text[0] == c or c == '.'):\n",
    "        if match_here(re, text):\n",
    "            return True\n",
    "        text = text[1:]\n",
    "    return match(re, text)"
   ]
  },
  {
   "cell_type": "markdown",
   "metadata": {},
   "source": [
    "**Función match_repeat.** Escriba el cuerpo de la función `match_repeat` la cual retorna `True` si el caracter `c` aparece entre `m` y `n` veces al principio de la cadena de texto almacenada en `text`. Por ejemplo: las invocaciones `match_repeat('a{2,3}c', 'abbc')` y `match_repeat('a{2,3}c', 'abbbc')` retornan `True`, mientras que `match_repeat('a{2,3}c', 'abc')` y `match_repeat('a{2,3}c', 'abbbbc')` retornan `False`."
   ]
  },
  {
   "cell_type": "code",
   "execution_count": null,
   "metadata": {
    "collapsed": true
   },
   "outputs": [],
   "source": [
    "#\n",
    "#  busca c{m,n}re al prncipio del texto\n",
    "#\n",
    "def match_repeat(re, text):\n",
    "    #\n",
    "    # escriba su código aquí\n",
    "    #\n",
    "    pass"
   ]
  },
  {
   "cell_type": "markdown",
   "metadata": {},
   "source": [
    "**Función match_plus.** Escriba el cuerpo de la función `match_plus` la cual retorna `True` si el caracter `c` aparece una o más veces al principio de la cadena de texto almacenada en `text`. Por ejemplo: para buscar la expresión regular `b+cd` en `abcde` se invoca la función como `match_plus('b', 'cd', 'abcde')` y la función retorna `True`. "
   ]
  },
  {
   "cell_type": "code",
   "execution_count": 2,
   "metadata": {
    "collapsed": false
   },
   "outputs": [],
   "source": [
    "#\n",
    "#    busca c+re al principio del texto\n",
    "#\n",
    "def match_plus(c, re, text):\n",
    "    #\n",
    "    if len(re)==0:\n",
    "        return match(c, text)\n",
    "    if len(c)==0:\n",
    "        return match(re, text)\n",
    "    if len(text)>0 and (text[0] != c):\n",
    "        return match_plus(c, re, text[1:])\n",
    "    while len(text) > 0 and (text[0] == c or c == '.'):\n",
    "        if match_here(re, text):\n",
    "            return True\n",
    "        text = text[1:]\n",
    "    #\n",
    "    return match(re, text)"
   ]
  },
  {
   "cell_type": "markdown",
   "metadata": {},
   "source": [
    "**Función match_question.** Escriba el cuerpo de la función `match_question` la cual retorna `True` si el caracter `c` aparece cero o una o vez al principio de la cadena de texto almacenada en `text`. Por ejemplo: las invocaciones  `match_question('a', 'bc', 'bcde')` y `match_question('a', 'bc', 'abcde')` retornan `True`, pero  `match_question('a', 'bc', 'aabcde')` retorna `False`. "
   ]
  },
  {
   "cell_type": "code",
   "execution_count": null,
   "metadata": {
    "collapsed": true
   },
   "outputs": [],
   "source": [
    "#\n",
    "#    busca c?re al principio del texto\n",
    "#\n",
    "def match_question(c, re, text):\n",
    "    #\n",
    "    # escriba su código aquí\n",
    "    #\n",
    "    pass"
   ]
  },
  {
   "cell_type": "markdown",
   "metadata": {},
   "source": [
    "**Función match_here.** Modifique de forma adecuada esta función para que invoce las funciones `match_repeat`, `match_question` y `match_plus`."
   ]
  },
  {
   "cell_type": "code",
   "execution_count": null,
   "metadata": {
    "collapsed": true
   },
   "outputs": [],
   "source": [
    "#\n",
    "#    busca la cadena re al principio de la cadena text\n",
    "#\n",
    "def match_here(re, text):\n",
    "    if len(re) == 0:\n",
    "        return True\n",
    "    if len(re) > 1 and re[1] == '*':\n",
    "        return match_star(re[0], re[2:], text)\n",
    "    if len(re) > 1 and re[1] == '+':\n",
    "        return match_star(re[0], re[2:], text)\n",
    "    if re[0] == '$' and len(re)==1:\n",
    "        return len(text) == 0\n",
    "    if len(text)>0 and (re[0]=='.' or re[0] == text[0]):\n",
    "        return match_here(re[1:], text[1:])\n",
    "    return False"
   ]
  },
  {
   "cell_type": "markdown",
   "metadata": {},
   "source": [
    "**Función match.** Esta función no requiere ser modificada."
   ]
  },
  {
   "cell_type": "code",
   "execution_count": null,
   "metadata": {
    "collapsed": false
   },
   "outputs": [],
   "source": [
    "###__test__\n",
    "#\n",
    "#    esta es la funcion de busqueda como tal.\n",
    "#    busca la ocurrencia de la expresion regular 're' en 'text'\n",
    "#\n",
    "def match(re, text):\n",
    "    if len(re) == 0:\n",
    "        return True\n",
    "    if re[0] == '^':\n",
    "        return match_here(re[1:], text)\n",
    "    while len(text) > 0:\n",
    "        if match_here(re, text):\n",
    "            return True\n",
    "        text = text[1:]\n",
    "    return False"
   ]
  },
  {
   "cell_type": "markdown",
   "metadata": {},
   "source": [
    "# Casos de prueba\n"
   ]
  },
  {
   "cell_type": "markdown",
   "metadata": {},
   "source": [
    "A continuación se corren los casos de prueba para verificar las implementaciones solicitadas."
   ]
  },
  {
   "cell_type": "code",
   "execution_count": null,
   "metadata": {
    "collapsed": true
   },
   "outputs": [],
   "source": [
    "###__test__\n",
    "match('a0+b', 'a0b')"
   ]
  },
  {
   "cell_type": "code",
   "execution_count": null,
   "metadata": {
    "collapsed": true
   },
   "outputs": [],
   "source": [
    "###__test__\n",
    "match('a0+b', 'a00b')"
   ]
  },
  {
   "cell_type": "code",
   "execution_count": null,
   "metadata": {
    "collapsed": true
   },
   "outputs": [],
   "source": [
    "###__test__\n",
    "match('a0+b', 'a000b')"
   ]
  },
  {
   "cell_type": "code",
   "execution_count": null,
   "metadata": {
    "collapsed": true
   },
   "outputs": [],
   "source": [
    "###__test__\n",
    "match('01?a', '0a')"
   ]
  },
  {
   "cell_type": "code",
   "execution_count": null,
   "metadata": {
    "collapsed": true
   },
   "outputs": [],
   "source": [
    "###__test__ prueb\n",
    "match('01?a', '01a')"
   ]
  },
  {
   "cell_type": "code",
   "execution_count": null,
   "metadata": {
    "collapsed": true
   },
   "outputs": [],
   "source": [
    "###__test__\n",
    "match('a0{2,3}b', 'a00b')"
   ]
  },
  {
   "cell_type": "code",
   "execution_count": null,
   "metadata": {
    "collapsed": true
   },
   "outputs": [],
   "source": [
    "###__test__\n",
    "match('a0{2,3}b', 'a000b')"
   ]
  },
  {
   "cell_type": "markdown",
   "metadata": {},
   "source": [
    "---"
   ]
  }
 ],
 "metadata": {
  "kernelspec": {
   "display_name": "Python 3",
   "language": "python",
   "name": "python3"
  },
  "language_info": {
   "codemirror_mode": {
    "name": "ipython",
    "version": 3
   },
   "file_extension": ".py",
   "mimetype": "text/x-python",
   "name": "python",
   "nbconvert_exporter": "python",
   "pygments_lexer": "ipython3",
   "version": "3.6.0"
  }
 },
 "nbformat": 4,
 "nbformat_minor": 0
}
